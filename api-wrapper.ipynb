{
 "cells": [
  {
   "cell_type": "code",
   "execution_count": 1,
   "metadata": {},
   "outputs": [],
   "source": [
    "import spotipy\n",
    "import pandas as pd\n",
    "from spotipy.oauth2 import SpotifyClientCredentials\n",
    "import json\n",
    "sp = spotipy.Spotify(auth_manager=SpotifyClientCredentials(client_id='1c48ebf5ac9448a482d355094f8814ae',\n",
    "                                                           client_secret='370638b64e1d4b7f9d2f3ef01559c512'))"
   ]
  },
  {
   "cell_type": "code",
   "execution_count": 2,
   "metadata": {},
   "outputs": [],
   "source": [
    "playlist1 = sp.user_playlist_tracks(\"spotify\", \"0yZPyRUaeYPT8bcE5za4Jc\")"
   ]
  },
  {
   "cell_type": "code",
   "execution_count": 3,
   "metadata": {},
   "outputs": [
    {
     "data": {
      "text/plain": [
       "dict_keys(['href', 'items', 'limit', 'next', 'offset', 'previous', 'total'])"
      ]
     },
     "execution_count": 3,
     "metadata": {},
     "output_type": "execute_result"
    }
   ],
   "source": [
    "playlist1.keys() "
   ]
  },
  {
   "cell_type": "code",
   "execution_count": 4,
   "metadata": {},
   "outputs": [
    {
     "data": {
      "text/plain": [
       "dict_keys(['added_at', 'added_by', 'is_local', 'primary_color', 'track', 'video_thumbnail'])"
      ]
     },
     "execution_count": 4,
     "metadata": {},
     "output_type": "execute_result"
    }
   ],
   "source": [
    "playlist1[\"items\"][0].keys()"
   ]
  },
  {
   "cell_type": "code",
   "execution_count": 5,
   "metadata": {},
   "outputs": [
    {
     "data": {
      "text/plain": [
       "{'tags': ['hide-output']}"
      ]
     },
     "execution_count": 5,
     "metadata": {},
     "output_type": "execute_result"
    }
   ],
   "source": [
    "playlist1[\"items\"][0][\"track\"]\n",
    "{\n",
    "    \"tags\": [\n",
    "        \"hide-output\",\n",
    "    ]\n",
    "}"
   ]
  },
  {
   "cell_type": "code",
   "execution_count": 6,
   "metadata": {},
   "outputs": [
    {
     "data": {
      "text/plain": [
       "'Poongatrile (From \"Uyire\")'"
      ]
     },
     "execution_count": 6,
     "metadata": {},
     "output_type": "execute_result"
    }
   ],
   "source": [
    "playlist1[\"items\"][0][\"track\"][\"name\"]"
   ]
  },
  {
   "cell_type": "code",
   "execution_count": 7,
   "metadata": {},
   "outputs": [],
   "source": [
    "playlist2 = sp.user_playlist_tracks(\"spotify\", \"5NiKo8Js2fBlzIdtLz2TN2\")"
   ]
  },
  {
   "cell_type": "code",
   "execution_count": 8,
   "metadata": {},
   "outputs": [],
   "source": [
    "playlist3 = sp.user_playlist_tracks(\"spotify\", \"1m9lwYPsGVf048zUUsn6Pp\")"
   ]
  },
  {
   "cell_type": "code",
   "execution_count": 9,
   "metadata": {},
   "outputs": [],
   "source": [
    "playlist4 = sp.user_playlist_tracks(\"spotify\", \"0NbXxa4qKlkxx5b7Arwfsa\")"
   ]
  },
  {
   "cell_type": "code",
   "execution_count": 10,
   "metadata": {},
   "outputs": [],
   "source": [
    "playlist5 = sp.user_playlist_tracks(\"spotify\", \"2yfa5FVOR1mWwJMEcdIAHf\")"
   ]
  },
  {
   "cell_type": "code",
   "execution_count": 11,
   "metadata": {},
   "outputs": [],
   "source": [
    "playlist6 = sp.user_playlist_tracks(\"spotify\", \"4mmFstruCc7us95NWGjA4m\")"
   ]
  },
  {
   "cell_type": "code",
   "execution_count": 12,
   "metadata": {},
   "outputs": [],
   "source": [
    "playlist7 = sp.user_playlist_tracks(\"spotify\", \"1EBdUu6X55yLHIFRv4fAJj\")"
   ]
  },
  {
   "cell_type": "code",
   "execution_count": 13,
   "metadata": {},
   "outputs": [],
   "source": [
    "playlist8 = sp.user_playlist_tracks(\"spotify\", \"3NIN96LF6yBOekvaelEROA\")"
   ]
  },
  {
   "cell_type": "code",
   "execution_count": 14,
   "metadata": {},
   "outputs": [],
   "source": [
    "playlist9 = sp.user_playlist_tracks(\"spotify\", \"03OdscZ3k0nBAAkcTGEPJQ\")"
   ]
  },
  {
   "cell_type": "code",
   "execution_count": 15,
   "metadata": {},
   "outputs": [],
   "source": [
    "playlist10 = sp.user_playlist_tracks(\"spotify\", \"48O9T6igWeGXZC3LNPbvTq\")"
   ]
  },
  {
   "cell_type": "code",
   "execution_count": 16,
   "metadata": {},
   "outputs": [],
   "source": [
    "playlist11 = sp.user_playlist_tracks(\"spotify\", \"25WYJENFC8wfwZZbi3sMPk\")"
   ]
  },
  {
   "cell_type": "code",
   "execution_count": 17,
   "metadata": {},
   "outputs": [],
   "source": [
    "playlist12 = sp.user_playlist_tracks(\"spotify\", \"37i9dQZF1DZ06evO0808pH\")"
   ]
  },
  {
   "cell_type": "code",
   "execution_count": 18,
   "metadata": {},
   "outputs": [],
   "source": [
    "playlist13 = sp.user_playlist_tracks(\"spotify\", \"7q1rPDUCbJ3mBttU7PSYgF\")"
   ]
  },
  {
   "cell_type": "code",
   "execution_count": 19,
   "metadata": {},
   "outputs": [],
   "source": [
    "playlist14 = sp.user_playlist_tracks(\"spotify\", \"0ShdeED8XclXQPg9bTPKiU\")"
   ]
  },
  {
   "cell_type": "code",
   "execution_count": 20,
   "metadata": {},
   "outputs": [],
   "source": [
    "playlist15 = sp.user_playlist_tracks(\"spotify\", \"2dzXc647txKZgXDXdH29Mm\")"
   ]
  },
  {
   "cell_type": "code",
   "execution_count": 21,
   "metadata": {},
   "outputs": [],
   "source": [
    "playlist16 = sp.user_playlist_tracks(\"spotify\", \"5ssjdYVx5Ch0DoNEtJ8HxA\")"
   ]
  },
  {
   "cell_type": "code",
   "execution_count": 22,
   "metadata": {},
   "outputs": [],
   "source": [
    "playlist17 = sp.user_playlist_tracks(\"spotify\", \"56MSBtcsvkevL2WJm1cier\")"
   ]
  },
  {
   "cell_type": "code",
   "execution_count": 23,
   "metadata": {},
   "outputs": [],
   "source": [
    "playlist18 = sp.user_playlist_tracks(\"spotify\", \"7m9ur4ttOnhU7G2hdg9DOa\")"
   ]
  },
  {
   "cell_type": "code",
   "execution_count": 24,
   "metadata": {},
   "outputs": [],
   "source": [
    "playlist19 = sp.user_playlist_tracks(\"spotify\", \"1EuZY35hN7s0TooPI8qE2b\")"
   ]
  },
  {
   "cell_type": "code",
   "execution_count": 25,
   "metadata": {},
   "outputs": [],
   "source": [
    "playlist20 = sp.user_playlist_tracks(\"spotify\", \"1GptpHBJ9KsH5FcSzjFH5L\")"
   ]
  },
  {
   "cell_type": "code",
   "execution_count": 26,
   "metadata": {},
   "outputs": [],
   "source": [
    "playlist21 = sp.user_playlist_tracks(\"spotify\", \"608oAZh9je5zA95dZAkpuO\")"
   ]
  },
  {
   "cell_type": "code",
   "execution_count": 27,
   "metadata": {},
   "outputs": [],
   "source": [
    "playlist22 = sp.user_playlist_tracks(\"spotify\", \"37i9dQZF1DX9DHKgiu5R9j\")"
   ]
  },
  {
   "cell_type": "code",
   "execution_count": 28,
   "metadata": {},
   "outputs": [],
   "source": [
    "playlists = [playlist1,playlist2,playlist3,playlist4,playlist5,playlist6,playlist7,playlist8,playlist9,playlist10,playlist11,playlist12,playlist13,playlist14,playlist15,playlist16,playlist17,playlist18,playlist19,playlist20,playlist21,playlist22]"
   ]
  },
  {
   "cell_type": "code",
   "execution_count": 29,
   "metadata": {},
   "outputs": [],
   "source": [
    "song_uri = playlist1[\"items\"][0][\"track\"][\"uri\"]"
   ]
  },
  {
   "cell_type": "code",
   "execution_count": 30,
   "metadata": {},
   "outputs": [
    {
     "data": {
      "text/plain": [
       "[{'danceability': 0.75,\n",
       "  'energy': 0.341,\n",
       "  'key': 11,\n",
       "  'loudness': -13.368,\n",
       "  'mode': 0,\n",
       "  'speechiness': 0.0381,\n",
       "  'acousticness': 0.267,\n",
       "  'instrumentalness': 0,\n",
       "  'liveness': 0.0951,\n",
       "  'valence': 0.602,\n",
       "  'tempo': 121.999,\n",
       "  'type': 'audio_features',\n",
       "  'id': '48vEUc5MnUiqtrbclwVZPz',\n",
       "  'uri': 'spotify:track:48vEUc5MnUiqtrbclwVZPz',\n",
       "  'track_href': 'https://api.spotify.com/v1/tracks/48vEUc5MnUiqtrbclwVZPz',\n",
       "  'analysis_url': 'https://api.spotify.com/v1/audio-analysis/48vEUc5MnUiqtrbclwVZPz',\n",
       "  'duration_ms': 340874,\n",
       "  'time_signature': 4}]"
      ]
     },
     "execution_count": 30,
     "metadata": {},
     "output_type": "execute_result"
    }
   ],
   "source": [
    "sp.audio_features(song_uri)"
   ]
  },
  {
   "cell_type": "code",
   "execution_count": 31,
   "metadata": {},
   "outputs": [],
   "source": [
    "playlist_audio_features = []\n",
    "playlist_track = []\n",
    "playlist_artist = []\n",
    "#playlist = sp.user_playlist_tracks(\"spotify\", \"5NiKo8Js2fBlzIdtLz2TN2\")\n",
    "#while playlists['next']!=None:\n",
    "    #playlists = sp.next(playlist)\n",
    "for playlist in playlists:  \n",
    "    for i in range(len(playlist['items'])):\n",
    "        tracks = playlist['items'][i]['track']['name']\n",
    "        playlist_track.append(tracks)\n",
    "    for i in range(len(playlist['items'])):\n",
    "        artist = playlist['items'][i]['track']['album']['artists'][0]['name']\n",
    "        playlist_artist.append(artist) \n",
    "    for i in range(len(playlist['items'])):\n",
    "        song_uri = playlist['items'][i]['track']['uri']\n",
    "        playlist_audio_features.append(song_uri)  "
   ]
  },
  {
   "cell_type": "code",
   "execution_count": 32,
   "metadata": {},
   "outputs": [],
   "source": [
    "from time import sleep"
   ]
  },
  {
   "cell_type": "code",
   "execution_count": null,
   "metadata": {},
   "outputs": [],
   "source": [
    "audio_features = []\n",
    "\n",
    "for uri in playlist_audio_features:\n",
    "    audio_features.append(sp.audio_features(uri))\n",
    "    sleep(0.5)"
   ]
  },
  {
   "cell_type": "code",
   "execution_count": 36,
   "metadata": {},
   "outputs": [],
   "source": [
    "def flatten(input_list):\n",
    "    return [item for sublist in input_list for item in sublist]"
   ]
  },
  {
   "cell_type": "code",
   "execution_count": 37,
   "metadata": {},
   "outputs": [
    {
     "data": {
      "text/plain": [
       "{'tags': ['hide-output']}"
      ]
     },
     "execution_count": 37,
     "metadata": {},
     "output_type": "execute_result"
    }
   ],
   "source": [
    "features = flatten(audio_features)\n",
    "{\n",
    "    \"tags\": [\n",
    "        \"hide-output\",\n",
    "    ]\n",
    "}"
   ]
  },
  {
   "cell_type": "code",
   "execution_count": 38,
   "metadata": {},
   "outputs": [],
   "source": [
    "playlist_audio_features_df = pd.DataFrame(audio_features)\n",
    "playlist_track_df = pd.DataFrame(playlist_track)\n",
    "playlist_artist_df = pd.DataFrame(playlist_artist)\n",
    "features_df = pd.DataFrame(features)"
   ]
  },
  {
   "cell_type": "code",
   "execution_count": 39,
   "metadata": {},
   "outputs": [],
   "source": [
    "data = pd.concat((playlist_artist_df,playlist_track_df,features_df),axis=1)\n"
   ]
  },
  {
   "cell_type": "code",
   "execution_count": 40,
   "metadata": {},
   "outputs": [],
   "source": [
    "data.columns = [                 'artist',                  'title',     'danceability',\n",
    "                 'energy',              'key',         'loudness',\n",
    "                   'mode',      'speechiness',     'acousticness',\n",
    "       'instrumentalness',         'liveness',          'valence',\n",
    "                  'tempo',             'type',               'id',\n",
    "                    'uri',       'track_href',     'analysis_url',\n",
    "            'duration_ms',   'time_signature']"
   ]
  },
  {
   "cell_type": "code",
   "execution_count": 41,
   "metadata": {},
   "outputs": [],
   "source": [
    "data = data.drop(['type','id','uri','track_href','analysis_url','duration_ms','time_signature'], axis =1)"
   ]
  },
  {
   "cell_type": "code",
   "execution_count": 42,
   "metadata": {},
   "outputs": [
    {
     "data": {
      "text/html": [
       "<div>\n",
       "<style scoped>\n",
       "    .dataframe tbody tr th:only-of-type {\n",
       "        vertical-align: middle;\n",
       "    }\n",
       "\n",
       "    .dataframe tbody tr th {\n",
       "        vertical-align: top;\n",
       "    }\n",
       "\n",
       "    .dataframe thead th {\n",
       "        text-align: right;\n",
       "    }\n",
       "</style>\n",
       "<table border=\"1\" class=\"dataframe\">\n",
       "  <thead>\n",
       "    <tr style=\"text-align: right;\">\n",
       "      <th></th>\n",
       "      <th>artist</th>\n",
       "      <th>title</th>\n",
       "      <th>danceability</th>\n",
       "      <th>energy</th>\n",
       "      <th>key</th>\n",
       "      <th>loudness</th>\n",
       "      <th>mode</th>\n",
       "      <th>speechiness</th>\n",
       "      <th>acousticness</th>\n",
       "      <th>instrumentalness</th>\n",
       "      <th>liveness</th>\n",
       "      <th>valence</th>\n",
       "      <th>tempo</th>\n",
       "    </tr>\n",
       "  </thead>\n",
       "  <tbody>\n",
       "    <tr>\n",
       "      <th>0</th>\n",
       "      <td>A.R. Rahman</td>\n",
       "      <td>Poongatrile (From \"Uyire\")</td>\n",
       "      <td>0.750</td>\n",
       "      <td>0.341</td>\n",
       "      <td>11</td>\n",
       "      <td>-13.368</td>\n",
       "      <td>0</td>\n",
       "      <td>0.0381</td>\n",
       "      <td>0.2670</td>\n",
       "      <td>0.000000</td>\n",
       "      <td>0.0951</td>\n",
       "      <td>0.602</td>\n",
       "      <td>121.999</td>\n",
       "    </tr>\n",
       "    <tr>\n",
       "      <th>1</th>\n",
       "      <td>A.R. Rahman</td>\n",
       "      <td>Kaadhal yogi (From \"Thaalam\")</td>\n",
       "      <td>0.787</td>\n",
       "      <td>0.407</td>\n",
       "      <td>6</td>\n",
       "      <td>-15.394</td>\n",
       "      <td>1</td>\n",
       "      <td>0.0846</td>\n",
       "      <td>0.0825</td>\n",
       "      <td>0.000000</td>\n",
       "      <td>0.2490</td>\n",
       "      <td>0.683</td>\n",
       "      <td>139.989</td>\n",
       "    </tr>\n",
       "    <tr>\n",
       "      <th>2</th>\n",
       "      <td>A.R. Rahman</td>\n",
       "      <td>Thayya Thayya (From \"Uyire\")</td>\n",
       "      <td>0.648</td>\n",
       "      <td>0.593</td>\n",
       "      <td>4</td>\n",
       "      <td>-15.789</td>\n",
       "      <td>0</td>\n",
       "      <td>0.2990</td>\n",
       "      <td>0.0446</td>\n",
       "      <td>0.000000</td>\n",
       "      <td>0.2770</td>\n",
       "      <td>0.387</td>\n",
       "      <td>179.883</td>\n",
       "    </tr>\n",
       "    <tr>\n",
       "      <th>3</th>\n",
       "      <td>A.R. Rahman</td>\n",
       "      <td>Nenjinile (From \"Uyire\")</td>\n",
       "      <td>0.755</td>\n",
       "      <td>0.594</td>\n",
       "      <td>9</td>\n",
       "      <td>-14.460</td>\n",
       "      <td>1</td>\n",
       "      <td>0.0549</td>\n",
       "      <td>0.2160</td>\n",
       "      <td>0.000328</td>\n",
       "      <td>0.0781</td>\n",
       "      <td>0.683</td>\n",
       "      <td>141.946</td>\n",
       "    </tr>\n",
       "    <tr>\n",
       "      <th>4</th>\n",
       "      <td>A.R. Rahman</td>\n",
       "      <td>Eetchi Elumichi (From \"Taj Mahal\")</td>\n",
       "      <td>0.702</td>\n",
       "      <td>0.478</td>\n",
       "      <td>10</td>\n",
       "      <td>-10.873</td>\n",
       "      <td>1</td>\n",
       "      <td>0.0363</td>\n",
       "      <td>0.0960</td>\n",
       "      <td>0.000016</td>\n",
       "      <td>0.1350</td>\n",
       "      <td>0.901</td>\n",
       "      <td>155.997</td>\n",
       "    </tr>\n",
       "  </tbody>\n",
       "</table>\n",
       "</div>"
      ],
      "text/plain": [
       "        artist                               title  danceability  energy  key  \\\n",
       "0  A.R. Rahman          Poongatrile (From \"Uyire\")         0.750   0.341   11   \n",
       "1  A.R. Rahman       Kaadhal yogi (From \"Thaalam\")         0.787   0.407    6   \n",
       "2  A.R. Rahman        Thayya Thayya (From \"Uyire\")         0.648   0.593    4   \n",
       "3  A.R. Rahman            Nenjinile (From \"Uyire\")         0.755   0.594    9   \n",
       "4  A.R. Rahman  Eetchi Elumichi (From \"Taj Mahal\")         0.702   0.478   10   \n",
       "\n",
       "   loudness  mode  speechiness  acousticness  instrumentalness  liveness  \\\n",
       "0   -13.368     0       0.0381        0.2670          0.000000    0.0951   \n",
       "1   -15.394     1       0.0846        0.0825          0.000000    0.2490   \n",
       "2   -15.789     0       0.2990        0.0446          0.000000    0.2770   \n",
       "3   -14.460     1       0.0549        0.2160          0.000328    0.0781   \n",
       "4   -10.873     1       0.0363        0.0960          0.000016    0.1350   \n",
       "\n",
       "   valence    tempo  \n",
       "0    0.602  121.999  \n",
       "1    0.683  139.989  \n",
       "2    0.387  179.883  \n",
       "3    0.683  141.946  \n",
       "4    0.901  155.997  "
      ]
     },
     "execution_count": 42,
     "metadata": {},
     "output_type": "execute_result"
    }
   ],
   "source": [
    "data.head()"
   ]
  }
 ],
 "metadata": {
  "kernelspec": {
   "display_name": "Python 3",
   "language": "python",
   "name": "python3"
  },
  "language_info": {
   "codemirror_mode": {
    "name": "ipython",
    "version": 3
   },
   "file_extension": ".py",
   "mimetype": "text/x-python",
   "name": "python",
   "nbconvert_exporter": "python",
   "pygments_lexer": "ipython3",
   "version": "3.8.5"
  }
 },
 "nbformat": 4,
 "nbformat_minor": 4
}
